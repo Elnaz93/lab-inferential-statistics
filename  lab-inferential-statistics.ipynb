{
 "cells": [
  {
   "cell_type": "code",
   "execution_count": 4,
   "id": "009ac6db",
   "metadata": {},
   "outputs": [],
   "source": [
    "import math\n",
    "import scipy.stats\n",
    "\n",
    "pop_mean = 120\n",
    "n = 100\n",
    "sample_mean = 130.1\n",
    "sample_std = 21.21"
   ]
  },
  {
   "cell_type": "code",
   "execution_count": 5,
   "id": "230b8e2f",
   "metadata": {},
   "outputs": [
    {
     "name": "stdout",
     "output_type": "stream",
     "text": [
      "Test statistic = 4.76 (as expected)\n"
     ]
    }
   ],
   "source": [
    "# STEP 1 - Define the null hypothesis (H0): sample_mean = 120 mm Hg\n",
    "\n",
    "# STEP 2 - Define the alternative hypothesis (H1): sample_mean ~= 120 mm Hg\n",
    "\n",
    "# STEP 3 - Determine if it is 1-tailed or 2-taled test: We are looking for differences in general, \n",
    "# therefore the test must 2-tailed. If we were looking for, e.g., hypertension in our sample, the test would be 1-tailed.\n",
    "\n",
    "# STEP 4 - Choose a test: We can assume a normal distribution of our 100 observations, so we can use a t test.\n",
    "\n",
    "# STEP 5 - Set confidence level: \n",
    "alpha = 0.01\n",
    "\n",
    "# STEP 6 - Calculate test statistic:\n",
    "\n",
    "statistic = (sample_mean - pop_mean)/(sample_std/math.sqrt(n))\n",
    "\n",
    "if round(statistic,5) == 4.76190:\n",
    "    print(\"Test statistic =\", round(statistic,2), \"(as expected)\")\n",
    "else:\n",
    "    print(\"Test statistic =\", round(statistic,2), \", which does not coincide with the expected value. Find the error.\")"
   ]
  },
  {
   "cell_type": "code",
   "execution_count": 6,
   "id": "2d1ef749",
   "metadata": {},
   "outputs": [
    {
     "name": "stdout",
     "output_type": "stream",
     "text": [
      "Critical value = 2.626\n"
     ]
    }
   ],
   "source": [
    "# STEP 7 - Determine critical value:\n",
    "\n",
    "# Manually - Check the t table:\n",
    "t_manual = 2.626\n",
    "\n",
    "# Python:\n",
    "critical_value = scipy.stats.t.ppf(q=1-alpha/2,df=n-1)\n",
    "\n",
    "if round(critical_value,3) == t_manual:\n",
    "    print(\"Critical value =\", round(critical_value,3))\n",
    "else:\n",
    "    print(\"Calculated critical value does not coincide with that of the t table. Find the error.\")"
   ]
  },
  {
   "cell_type": "code",
   "execution_count": 7,
   "id": "38a8ab9e",
   "metadata": {},
   "outputs": [
    {
     "name": "stdout",
     "output_type": "stream",
     "text": [
      "Our study group shows a significantly different systolic blood pressure than that of the regular population.\n"
     ]
    }
   ],
   "source": [
    "# STEP 8 - Conclusion: If the test statistic falls in the critical region, then we reject the Null Hypothesis.\n",
    "# If the test statistic falls in the region between the critical region, then we fail to reject the Null Hypothesis.\n",
    "\n",
    "if abs(statistic) > abs(critical_value):\n",
    "    print (\"Our study group shows a significantly different systolic blood pressure than that of the regular population.\")\n",
    "else:\n",
    "    print (\"The systolic blood pressure of our group does not differ significantly from that of the regular population.\")"
   ]
  },
  {
   "cell_type": "code",
   "execution_count": null,
   "id": "cbdce5cf",
   "metadata": {},
   "outputs": [],
   "source": []
  }
 ],
 "metadata": {
  "kernelspec": {
   "display_name": "Python 3 (ipykernel)",
   "language": "python",
   "name": "python3"
  },
  "language_info": {
   "codemirror_mode": {
    "name": "ipython",
    "version": 3
   },
   "file_extension": ".py",
   "mimetype": "text/x-python",
   "name": "python",
   "nbconvert_exporter": "python",
   "pygments_lexer": "ipython3",
   "version": "3.9.7"
  }
 },
 "nbformat": 4,
 "nbformat_minor": 5
}
